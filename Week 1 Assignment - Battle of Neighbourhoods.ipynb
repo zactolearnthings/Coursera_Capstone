{
 "cells": [
  {
   "cell_type": "markdown",
   "metadata": {},
   "source": [
    "### 1. A description of the problem and a discussion of the background. (15 marks)"
   ]
  },
  {
   "cell_type": "markdown",
   "metadata": {},
   "source": [
    "#### Problem:\n",
    "\n",
    "Susan has lived in Downtown Toronto for a long time. She lived in other boroughs in Toronto before but she likes Downtown Toronto the most. She feels safe and happy with the restaurants, shops, recreational and enterainment facilities nearby. She enjoys her life so much there.\n",
    "\n",
    "Recently Susan has got an offer from a tech copmany in New York, which she has always been dreaming to work in, so she has decided to move to New York to follow her dream. The first thing to do is to find a place to settle down everything. She is looking for an apartment but she has no idea how to start with. She has never been to New York before and she knows New Tork is a big city that she may find difficulty living in such big city. Of course she doesn't know much about how similar New York it is compared to Toronto nor the boroughs/neigbourhoods. \n",
    "\n",
    "A safer solution is that she can find a place which is similar to Downtown Toronto. Then it may be easier for her to adapt the pace of New York. There is little information online about the comparison of boroughs/neigbourhoods between New York and Toronto. She needs to make the decision within the next 2 weeks and she doesn't feel she can make it with the current information she've got. She is struggling. Luckily Susan remembers you have told her that you works in Data Science recently and thinks you may be able to help her to find out a solution.\n",
    "\n",
    "Susan is a good friend of you, therefore you are happy to help. Now you decide to find a way to analyse the data and see if you can find a recommendation for her.\n"
   ]
  },
  {
   "cell_type": "markdown",
   "metadata": {},
   "source": [
    "#### Question:\n",
    "\n",
    "Can we find neigbourhoods in New York which are similar to Downtown Toronto?\n",
    "\n",
    "\n"
   ]
  },
  {
   "cell_type": "markdown",
   "metadata": {},
   "source": [
    "### 2. A description of the data and how it will be used to solve the problem. (15 marks)"
   ]
  },
  {
   "cell_type": "markdown",
   "metadata": {},
   "source": [
    "#### Analytic Approach\n",
    "\n",
    "Use K-means clustering to cluster the neighbourhoods"
   ]
  },
  {
   "cell_type": "markdown",
   "metadata": {},
   "source": [
    "#### Data Requirements\n",
    "- Data of New York and Toronto\n",
    "\n",
    "- borough and neighbourhood\n",
    "\n",
    "- location: latitude, longitude\n",
    "\n",
    "- nearby venues data: venue category, venue count"
   ]
  },
  {
   "cell_type": "markdown",
   "metadata": {},
   "source": [
    "#### Data Collection\n",
    "\n",
    "- list of borough/neighbourhood of New York from NYU\n",
    "- list of borough/neighbourhood of Toronto from Wikipedia\n",
    "- list of location of the boroughs/neighbourhoods \n",
    "- nearby venues of the neighbourhood from Foursquare "
   ]
  },
  {
   "cell_type": "markdown",
   "metadata": {},
   "source": [
    "#### Using the data to solve the problem\n",
    "1. form a data set containing neigbourhood and location - New York\n",
    "2. add the nearby venues infomation to the data set - New York\n",
    "3. repeat 1-2 for data of Toronto\n",
    "4. combine the 2 data sets\n",
    "5. build a cluster\n",
    "6. get a dataset of neigbourhood with cluster and common venues\n",
    "7. check the data set to see if the clusters can tell the solution"
   ]
  }
 ],
 "metadata": {
  "kernelspec": {
   "display_name": "Python 3",
   "language": "python",
   "name": "python3"
  },
  "language_info": {
   "codemirror_mode": {
    "name": "ipython",
    "version": 3
   },
   "file_extension": ".py",
   "mimetype": "text/x-python",
   "name": "python",
   "nbconvert_exporter": "python",
   "pygments_lexer": "ipython3",
   "version": "3.6.5"
  }
 },
 "nbformat": 4,
 "nbformat_minor": 4
}
